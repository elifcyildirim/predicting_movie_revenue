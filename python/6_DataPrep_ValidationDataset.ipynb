{
 "cells": [
  {
   "cell_type": "code",
   "execution_count": 1,
   "id": "65c6136d",
   "metadata": {},
   "outputs": [],
   "source": [
    "#main\n",
    "import pandas as pd\n",
    "import numpy as np\n",
    "import math\n",
    "import sklearn\n",
    "import re\n",
    "\n",
    "#graphic\n",
    "import matplotlib\n",
    "import matplotlib.pyplot as plt\n",
    "import seaborn as sns \n",
    "%matplotlib inline"
   ]
  },
  {
   "cell_type": "code",
   "execution_count": 2,
   "id": "68553d29",
   "metadata": {},
   "outputs": [],
   "source": [
    "pd.set_option('display.max_columns', None)\n",
    "pd.set_option('display.max_rows', None)"
   ]
  },
  {
   "cell_type": "code",
   "execution_count": 3,
   "id": "054011ff",
   "metadata": {},
   "outputs": [],
   "source": [
    "movie_overview_2022 = pd.read_csv('./movies_2022.csv', index_col='Unnamed: 0')\n",
    "movie_detail_2022 = pd.read_csv('./movie_details_2022.csv', index_col='Unnamed: 0')\n",
    "movie_award_2022 = pd.read_csv('./awards_2022.csv', index_col='Unnamed: 0')\n",
    "top_1000_movies = pd.read_csv('./imdb_top_1000.csv')\n"
   ]
  },
  {
   "cell_type": "code",
   "execution_count": 4,
   "id": "f43f1bf2",
   "metadata": {},
   "outputs": [],
   "source": [
    "movie_overview_2022 = movie_overview_2022.reset_index(drop=True)"
   ]
  },
  {
   "cell_type": "code",
   "execution_count": 5,
   "id": "ef9573a7",
   "metadata": {},
   "outputs": [],
   "source": [
    "movie_detail_2022.drop(['title','movie_id','movie_imdb_link' ], axis=1, inplace=True) # drop duplicate columns"
   ]
  },
  {
   "cell_type": "code",
   "execution_count": 6,
   "id": "60002f92",
   "metadata": {},
   "outputs": [],
   "source": [
    "movie_award_2022.drop(['title','movie_id'], axis=1, inplace=True) # drop duplicate columns"
   ]
  },
  {
   "cell_type": "code",
   "execution_count": 7,
   "id": "f70eca32",
   "metadata": {},
   "outputs": [],
   "source": [
    "movies_df = pd.concat([movie_overview_2022, movie_award_2022, movie_detail_2022 ],axis = 1)\n"
   ]
  },
  {
   "cell_type": "code",
   "execution_count": 8,
   "id": "086eb0c9",
   "metadata": {},
   "outputs": [
    {
     "data": {
      "text/plain": [
       "(477, 26)"
      ]
     },
     "execution_count": 8,
     "metadata": {},
     "output_type": "execute_result"
    }
   ],
   "source": [
    "movies_df.shape"
   ]
  },
  {
   "cell_type": "code",
   "execution_count": 9,
   "id": "732abe68",
   "metadata": {},
   "outputs": [],
   "source": [
    "def separete_awards(df):\n",
    "    df['total_award_nominations'] = '' #creating empty columns\n",
    "    df['total_award_wins'] = ''\n",
    "\n",
    "    for i in df.index:\n",
    "        if df['awards_total'][i] != '0':\n",
    "            pattern= '\\d+'\n",
    "            numbers = re.findall(pattern,df['awards_total'][i])\n",
    "            df['total_award_wins'][i] = numbers[0]      \n",
    "            df['total_award_nominations'][i] = numbers[1]         \n",
    "      \n",
    "        else:\n",
    "            df['total_award_wins'][i] = df['awards_total'][i]\n",
    "            df['total_award_nominations'][i] = df['awards_total'][i]\n",
    "    \n",
    "    return df"
   ]
  },
  {
   "cell_type": "code",
   "execution_count": 10,
   "id": "0c400730",
   "metadata": {},
   "outputs": [
    {
     "name": "stderr",
     "output_type": "stream",
     "text": [
      "/var/folders/33/p_3l01b14g96rn22vzwly2g00000gn/T/ipykernel_64253/2812189874.py:9: SettingWithCopyWarning: \n",
      "A value is trying to be set on a copy of a slice from a DataFrame\n",
      "\n",
      "See the caveats in the documentation: https://pandas.pydata.org/pandas-docs/stable/user_guide/indexing.html#returning-a-view-versus-a-copy\n",
      "  df['total_award_wins'][i] = numbers[0]\n",
      "/var/folders/33/p_3l01b14g96rn22vzwly2g00000gn/T/ipykernel_64253/2812189874.py:10: SettingWithCopyWarning: \n",
      "A value is trying to be set on a copy of a slice from a DataFrame\n",
      "\n",
      "See the caveats in the documentation: https://pandas.pydata.org/pandas-docs/stable/user_guide/indexing.html#returning-a-view-versus-a-copy\n",
      "  df['total_award_nominations'][i] = numbers[1]\n",
      "/var/folders/33/p_3l01b14g96rn22vzwly2g00000gn/T/ipykernel_64253/2812189874.py:13: SettingWithCopyWarning: \n",
      "A value is trying to be set on a copy of a slice from a DataFrame\n",
      "\n",
      "See the caveats in the documentation: https://pandas.pydata.org/pandas-docs/stable/user_guide/indexing.html#returning-a-view-versus-a-copy\n",
      "  df['total_award_wins'][i] = df['awards_total'][i]\n",
      "/var/folders/33/p_3l01b14g96rn22vzwly2g00000gn/T/ipykernel_64253/2812189874.py:14: SettingWithCopyWarning: \n",
      "A value is trying to be set on a copy of a slice from a DataFrame\n",
      "\n",
      "See the caveats in the documentation: https://pandas.pydata.org/pandas-docs/stable/user_guide/indexing.html#returning-a-view-versus-a-copy\n",
      "  df['total_award_nominations'][i] = df['awards_total'][i]\n"
     ]
    }
   ],
   "source": [
    "movies_df_v1 = separete_awards(movies_df)"
   ]
  },
  {
   "cell_type": "code",
   "execution_count": 11,
   "id": "4391f073",
   "metadata": {},
   "outputs": [],
   "source": [
    "def separete_genre(df):\n",
    "    df['primary_genre'] = '' #creating empty columns\n",
    "    df['secondary_genre'] = ''\n",
    "    \n",
    "    pattern = \"[\\w']+\"\n",
    "    \n",
    "    for i in df.index:\n",
    "        if df['genre'][i] != '[]':\n",
    "            g = re.findall(pattern,df['genre'][i])\n",
    "            \n",
    "            if len(g)>1:\n",
    "                df['primary_genre'][i] = g[0]      \n",
    "                df['secondary_genre'][i] = g[1]\n",
    "            else:\n",
    "                df['primary_genre'][i] = df['genre'][i]\n",
    "                df['secondary_genre'][i] = 'Other'\n",
    "        else:\n",
    "            df['primary_genre'][i] = ''\n",
    "            df['secondary_genre'][i] = ''\n",
    "    \n",
    "    return df\n",
    "    "
   ]
  },
  {
   "cell_type": "code",
   "execution_count": 12,
   "id": "9f7b7559",
   "metadata": {},
   "outputs": [
    {
     "name": "stderr",
     "output_type": "stream",
     "text": [
      "/var/folders/33/p_3l01b14g96rn22vzwly2g00000gn/T/ipykernel_64253/4184901931.py:12: SettingWithCopyWarning: \n",
      "A value is trying to be set on a copy of a slice from a DataFrame\n",
      "\n",
      "See the caveats in the documentation: https://pandas.pydata.org/pandas-docs/stable/user_guide/indexing.html#returning-a-view-versus-a-copy\n",
      "  df['primary_genre'][i] = g[0]\n",
      "/var/folders/33/p_3l01b14g96rn22vzwly2g00000gn/T/ipykernel_64253/4184901931.py:13: SettingWithCopyWarning: \n",
      "A value is trying to be set on a copy of a slice from a DataFrame\n",
      "\n",
      "See the caveats in the documentation: https://pandas.pydata.org/pandas-docs/stable/user_guide/indexing.html#returning-a-view-versus-a-copy\n",
      "  df['secondary_genre'][i] = g[1]\n",
      "/var/folders/33/p_3l01b14g96rn22vzwly2g00000gn/T/ipykernel_64253/4184901931.py:15: SettingWithCopyWarning: \n",
      "A value is trying to be set on a copy of a slice from a DataFrame\n",
      "\n",
      "See the caveats in the documentation: https://pandas.pydata.org/pandas-docs/stable/user_guide/indexing.html#returning-a-view-versus-a-copy\n",
      "  df['primary_genre'][i] = df['genre'][i]\n",
      "/var/folders/33/p_3l01b14g96rn22vzwly2g00000gn/T/ipykernel_64253/4184901931.py:16: SettingWithCopyWarning: \n",
      "A value is trying to be set on a copy of a slice from a DataFrame\n",
      "\n",
      "See the caveats in the documentation: https://pandas.pydata.org/pandas-docs/stable/user_guide/indexing.html#returning-a-view-versus-a-copy\n",
      "  df['secondary_genre'][i] = 'Other'\n"
     ]
    }
   ],
   "source": [
    "movies_df_v2 = separete_genre(movies_df_v1)"
   ]
  },
  {
   "cell_type": "code",
   "execution_count": 13,
   "id": "7c71fbf9",
   "metadata": {},
   "outputs": [],
   "source": [
    "movies_df_v2['certificate']= movies_df_v2['certificate'].replace({\n",
    "    'R':'Adult',\n",
    "    'PG-13':'+13/14', \n",
    "    'TV-13':'+13/14',\n",
    "    'TV-MA':'Adult',\n",
    "    'PG': 'Parental Guidance',\n",
    "    'TV-14': '+13/14',\n",
    "    'Unrated': 'Not Rated',\n",
    "    'Approved': 'Not Rated',\n",
    "    'TV-PG': 'Parental Guidance',\n",
    "    'TV-G': 'Kids',\n",
    "    'G': 'Suitable for all',\n",
    "    'TV-Y7': 'Kids',\n",
    "    '18': 'Adult',\n",
    "    'TV-Y': 'Kids',\n",
    "    'TV-Y7-FV': 'Kids',\n",
    "    'T':'Adult',\n",
    "    'M': 'Adult'\n",
    "})"
   ]
  },
  {
   "cell_type": "code",
   "execution_count": 14,
   "id": "ede6be51",
   "metadata": {},
   "outputs": [],
   "source": [
    "def drop_k(df):\n",
    "    \n",
    "    pattern = \"K\"\n",
    "    \n",
    "    for i in df.index:\n",
    "        if df['num_user_reviews'][i] != '[]':\n",
    "            review = re.findall(pattern,df['num_user_reviews'][i]) \n",
    "            if len(review)>0:\n",
    "                a = df['num_user_reviews'][i].replace('K','')    \n",
    "                df['num_user_reviews'][i] = float(a)*1000\n",
    "                \n",
    "            else:\n",
    "                df['num_user_reviews'][i] = df['num_user_reviews'][i]\n",
    "        else:\n",
    "            df['num_user_reviews'][i] = 0\n",
    "    \n",
    "    df['num_user_reviews'] =  pd.to_numeric(df['num_user_reviews'], errors='coerce')\n",
    "    \n",
    "    return df\n",
    "    "
   ]
  },
  {
   "cell_type": "code",
   "execution_count": 15,
   "id": "549a8a4a",
   "metadata": {},
   "outputs": [
    {
     "name": "stderr",
     "output_type": "stream",
     "text": [
      "/var/folders/33/p_3l01b14g96rn22vzwly2g00000gn/T/ipykernel_64253/3710906870.py:10: SettingWithCopyWarning: \n",
      "A value is trying to be set on a copy of a slice from a DataFrame\n",
      "\n",
      "See the caveats in the documentation: https://pandas.pydata.org/pandas-docs/stable/user_guide/indexing.html#returning-a-view-versus-a-copy\n",
      "  df['num_user_reviews'][i] = float(a)*1000\n",
      "/var/folders/33/p_3l01b14g96rn22vzwly2g00000gn/T/ipykernel_64253/3710906870.py:13: SettingWithCopyWarning: \n",
      "A value is trying to be set on a copy of a slice from a DataFrame\n",
      "\n",
      "See the caveats in the documentation: https://pandas.pydata.org/pandas-docs/stable/user_guide/indexing.html#returning-a-view-versus-a-copy\n",
      "  df['num_user_reviews'][i] = df['num_user_reviews'][i]\n"
     ]
    }
   ],
   "source": [
    "movies_df_v2 = drop_k(movies_df_v2)"
   ]
  },
  {
   "cell_type": "code",
   "execution_count": 16,
   "id": "2543ee87",
   "metadata": {},
   "outputs": [],
   "source": [
    "movies_df_v2['num_critic_reviews'] =  pd.to_numeric(movies_df_v2['num_critic_reviews'], errors='coerce')"
   ]
  },
  {
   "cell_type": "code",
   "execution_count": 17,
   "id": "f1897392",
   "metadata": {},
   "outputs": [
    {
     "data": {
      "text/plain": [
       "October 7, 2022       13\n",
       "March 18, 2022        12\n",
       "August 26, 2022       11\n",
       "September 30, 2022    10\n",
       "August 12, 2022       10\n",
       "September 16, 2022    10\n",
       "June 3, 2022          10\n",
       "June 17, 2022          9\n",
       "July 15, 2022          9\n",
       "August 5, 2022         9\n",
       "February 11, 2022      9\n",
       "January 14, 2022       9\n",
       "July 29, 2022          8\n",
       "September 23, 2022     8\n",
       "April 8, 2022          8\n",
       "April 1, 2022          8\n",
       "April 29, 2022         8\n",
       "October 14, 2022       7\n",
       "October 28, 2022       7\n",
       "September 2, 2022      7\n",
       "January 28, 2022       6\n",
       "May 6, 2022            6\n",
       "October 21, 2022       5\n",
       "April 15, 2022         5\n",
       "June 24, 2022          5\n",
       "November 4, 2022       5\n",
       "May 20, 2022           5\n",
       "September 9, 2022      5\n",
       "November 18, 2022      4\n",
       "February 25, 2022      4\n",
       "May 27, 2022           4\n",
       "February 17, 2022      4\n",
       "2022                   4\n",
       "March 4, 2022          4\n",
       "October 4, 2022        4\n",
       "July 8, 2022           4\n",
       "February 18, 2022      4\n",
       "July 1, 2022           4\n",
       "February 4, 2022       4\n",
       "March 25, 2022         4\n",
       "March 11, 2022         4\n",
       "July 22, 2022          4\n",
       "April 22, 2022         4\n",
       "January 4, 2022        3\n",
       "September 1, 2022      3\n",
       "January 21, 2022       3\n",
       "February 2, 2022       3\n",
       "August 16, 2022        3\n",
       "February 8, 2022       3\n",
       "March 31, 2022         3\n",
       "January 22, 2022       3\n",
       "June 23, 2022          3\n",
       "January 15, 2022       3\n",
       "October 6, 2022        3\n",
       "February 3, 2022       3\n",
       "June 14, 2022          3\n",
       "February 10, 2022      3\n",
       "May 13, 2022           3\n",
       "August 19, 2022        3\n",
       "October 11, 2022       2\n",
       "July 7, 2022           2\n",
       "August 2, 2022         2\n",
       "July 26, 2022          2\n",
       "January 20, 2022       2\n",
       "June 28, 2022          2\n",
       "March 1, 2022          2\n",
       "April 14, 2022         2\n",
       "September 6, 2022      2\n",
       "October 20, 2022       2\n",
       "March 8, 2022          2\n",
       "December 23, 2022      2\n",
       "September 7, 2022      2\n",
       "August 18, 2022        2\n",
       "April 21, 2022         2\n",
       "August 9, 2022         2\n",
       "June 21, 2022          2\n",
       "February 15, 2022      2\n",
       "March 17, 2022         2\n",
       "September 27, 2022     2\n",
       "August 4, 2022         2\n",
       "August 17, 2022        2\n",
       "June 10, 2022          2\n",
       "July 14, 2022          2\n",
       "February 3, 2023       2\n",
       "October 26, 2022       2\n",
       "May 24, 2022           2\n",
       "September 8, 2022      2\n",
       "May 23, 2022           2\n",
       "November 25, 2022      2\n",
       "May 3, 2022            1\n",
       "May 25, 2007           1\n",
       "October 8, 2022        1\n",
       "November 22, 2022      1\n",
       "February 1, 2022       1\n",
       "August 7, 2022         1\n",
       "September 3, 2022      1\n",
       "September 15, 2022     1\n",
       "January 24, 2022       1\n",
       "December 16, 2022      1\n",
       "February 26, 2022      1\n",
       "February 24, 2023      1\n",
       "October 31, 2022       1\n",
       "January 29, 2022       1\n",
       "August 1, 2022         1\n",
       "November 3, 2022       1\n",
       "March 24, 2022         1\n",
       "July 5, 2022           1\n",
       "May 1, 2022            1\n",
       "January 18, 2022       1\n",
       "March 29, 2022         1\n",
       "March 31, 2023         1\n",
       "March 23, 2022         1\n",
       "February 27, 2022      1\n",
       "August 27, 2022        1\n",
       "October 13, 2022       1\n",
       "June 7, 2022           1\n",
       "March 15, 2022         1\n",
       "March 6, 2022          1\n",
       "October 27, 2022       1\n",
       "May 11, 2022           1\n",
       "January 11, 2022       1\n",
       "May 12, 2022           1\n",
       "February 12, 2022      1\n",
       "December 9, 2022       1\n",
       "May 9, 2022            1\n",
       "November 16, 2022      1\n",
       "February 5, 2022       1\n",
       "October 24, 2022       1\n",
       "March 14, 2022         1\n",
       "May 14, 2022           1\n",
       "August 2022            1\n",
       "March 10, 2023         1\n",
       "August 25, 2022        1\n",
       "April 7, 2023          1\n",
       "April 28, 2022         1\n",
       "September 21, 2022     1\n",
       "October 12, 2022       1\n",
       "July 6, 2022           1\n",
       "August 11, 2022        1\n",
       "March 22, 2022         1\n",
       "October 10, 2022       1\n",
       "May 15, 2022           1\n",
       "January 16, 2022       1\n",
       "March 3, 2022          1\n",
       "June 22, 2022          1\n",
       "July 27, 2022          1\n",
       "October 5, 2022        1\n",
       "October 19, 2022       1\n",
       "May 19, 2022           1\n",
       "June 16, 2022          1\n",
       "February 24, 2022      1\n",
       "March 10, 2022         1\n",
       "December 30, 2022      1\n",
       "September 13, 2022     1\n",
       "July 20, 2022          1\n",
       "January 7, 2022        1\n",
       "2023                   1\n",
       "March 17, 2023         1\n",
       "June 8, 2022           1\n",
       "June 29, 2022          1\n",
       "August 6, 2022         1\n",
       "January 17, 2022       1\n",
       "December 2, 2022       1\n",
       "January 13, 2022       1\n",
       "August 22, 2022        1\n",
       "September 28, 2022     1\n",
       "September 20, 2022     1\n",
       "January 10, 2022       1\n",
       "April 4, 2022          1\n",
       "July 21, 2022          1\n",
       "January 27, 2022       1\n",
       "May 17, 2022           1\n",
       "February 23, 2022      1\n",
       "December 25, 2022      1\n",
       "Name: release_date, dtype: int64"
      ]
     },
     "execution_count": 17,
     "metadata": {},
     "output_type": "execute_result"
    }
   ],
   "source": [
    "movies_df_v2['release_date'].value_counts(dropna=False)"
   ]
  },
  {
   "cell_type": "code",
   "execution_count": 18,
   "id": "b802f866",
   "metadata": {},
   "outputs": [],
   "source": [
    "movies_df_v2['release_date']= movies_df_v2['release_date'].replace({\n",
    "    '2022':'',\n",
    "    '2023':''\n",
    "})"
   ]
  },
  {
   "cell_type": "code",
   "execution_count": 19,
   "id": "6623ce1b",
   "metadata": {},
   "outputs": [],
   "source": [
    "movies_df_v2['release_date']=pd.to_datetime(movies_df_v2['release_date'], errors='coerce')"
   ]
  },
  {
   "cell_type": "code",
   "execution_count": 20,
   "id": "84460bf9",
   "metadata": {},
   "outputs": [
    {
     "data": {
      "text/plain": [
       "2022-10-07    13\n",
       "2022-03-18    12\n",
       "2022-08-26    11\n",
       "2022-09-16    10\n",
       "2022-09-30    10\n",
       "2022-08-12    10\n",
       "2022-06-03    10\n",
       "2022-01-14     9\n",
       "2022-08-05     9\n",
       "2022-07-15     9\n",
       "2022-02-11     9\n",
       "2022-06-17     9\n",
       "2022-04-08     8\n",
       "2022-09-23     8\n",
       "2022-04-01     8\n",
       "2022-04-29     8\n",
       "2022-07-29     8\n",
       "2022-10-14     7\n",
       "2022-10-28     7\n",
       "2022-09-02     7\n",
       "2022-05-06     6\n",
       "2022-01-28     6\n",
       "2022-09-09     5\n",
       "2022-11-04     5\n",
       "NaT            5\n",
       "2022-04-15     5\n",
       "2022-06-24     5\n",
       "2022-05-20     5\n",
       "2022-10-21     5\n",
       "2022-02-25     4\n",
       "2022-11-18     4\n",
       "2022-02-17     4\n",
       "2022-05-27     4\n",
       "2022-10-04     4\n",
       "2022-03-04     4\n",
       "2022-07-01     4\n",
       "2022-02-04     4\n",
       "2022-07-08     4\n",
       "2022-04-22     4\n",
       "2022-02-18     4\n",
       "2022-03-11     4\n",
       "2022-03-25     4\n",
       "2022-07-22     4\n",
       "2022-10-06     3\n",
       "2022-09-01     3\n",
       "2022-01-21     3\n",
       "2022-05-13     3\n",
       "2022-08-19     3\n",
       "2022-03-31     3\n",
       "2022-01-22     3\n",
       "2022-02-08     3\n",
       "2022-02-03     3\n",
       "2022-06-14     3\n",
       "2022-06-23     3\n",
       "2022-01-04     3\n",
       "2022-01-15     3\n",
       "2022-02-10     3\n",
       "2022-02-02     3\n",
       "2022-08-16     3\n",
       "2022-10-20     2\n",
       "2022-02-15     2\n",
       "2022-08-18     2\n",
       "2022-05-24     2\n",
       "2022-08-02     2\n",
       "2022-06-21     2\n",
       "2022-07-07     2\n",
       "2022-06-28     2\n",
       "2022-05-23     2\n",
       "2022-07-14     2\n",
       "2022-07-26     2\n",
       "2022-03-01     2\n",
       "2022-11-25     2\n",
       "2022-12-23     2\n",
       "2022-04-14     2\n",
       "2022-08-01     2\n",
       "2022-10-11     2\n",
       "2022-09-07     2\n",
       "2022-08-04     2\n",
       "2022-04-21     2\n",
       "2022-10-26     2\n",
       "2022-08-17     2\n",
       "2022-01-20     2\n",
       "2022-03-17     2\n",
       "2022-09-27     2\n",
       "2022-08-09     2\n",
       "2022-09-08     2\n",
       "2023-02-03     2\n",
       "2022-06-10     2\n",
       "2022-09-06     2\n",
       "2022-03-08     2\n",
       "2022-05-01     1\n",
       "2022-02-01     1\n",
       "2022-02-26     1\n",
       "2022-03-29     1\n",
       "2022-01-29     1\n",
       "2022-10-31     1\n",
       "2022-01-18     1\n",
       "2022-01-24     1\n",
       "2022-11-22     1\n",
       "2023-03-31     1\n",
       "2022-08-07     1\n",
       "2022-09-15     1\n",
       "2022-03-23     1\n",
       "2022-09-03     1\n",
       "2023-02-24     1\n",
       "2022-12-16     1\n",
       "2022-10-08     1\n",
       "2022-03-06     1\n",
       "2022-05-12     1\n",
       "2022-02-12     1\n",
       "2022-12-09     1\n",
       "2022-11-16     1\n",
       "2022-02-05     1\n",
       "2022-05-11     1\n",
       "2022-10-27     1\n",
       "2022-03-15     1\n",
       "2022-07-05     1\n",
       "2007-05-25     1\n",
       "2022-05-09     1\n",
       "2022-06-07     1\n",
       "2022-03-24     1\n",
       "2022-10-13     1\n",
       "2022-08-27     1\n",
       "2022-02-27     1\n",
       "2022-01-11     1\n",
       "2022-05-03     1\n",
       "2022-10-24     1\n",
       "2022-08-25     1\n",
       "2022-05-14     1\n",
       "2022-12-30     1\n",
       "2022-09-21     1\n",
       "2022-10-12     1\n",
       "2022-07-06     1\n",
       "2022-08-11     1\n",
       "2022-03-22     1\n",
       "2022-10-10     1\n",
       "2022-05-15     1\n",
       "2022-01-16     1\n",
       "2022-06-22     1\n",
       "2022-07-27     1\n",
       "2022-06-16     1\n",
       "2022-11-03     1\n",
       "2022-01-13     1\n",
       "2022-05-19     1\n",
       "2022-10-19     1\n",
       "2022-10-05     1\n",
       "2022-03-03     1\n",
       "2022-09-28     1\n",
       "2022-06-08     1\n",
       "2022-04-28     1\n",
       "2023-04-07     1\n",
       "2023-03-10     1\n",
       "2022-08-22     1\n",
       "2022-07-20     1\n",
       "2022-01-07     1\n",
       "2023-03-17     1\n",
       "2022-06-29     1\n",
       "2022-08-06     1\n",
       "2022-01-17     1\n",
       "2022-12-02     1\n",
       "2022-03-14     1\n",
       "2022-09-20     1\n",
       "2022-02-24     1\n",
       "2022-01-10     1\n",
       "2022-04-04     1\n",
       "2022-07-21     1\n",
       "2022-01-27     1\n",
       "2022-05-17     1\n",
       "2022-02-23     1\n",
       "2022-09-13     1\n",
       "2022-03-10     1\n",
       "2022-12-25     1\n",
       "Name: release_date, dtype: int64"
      ]
     },
     "execution_count": 20,
     "metadata": {},
     "output_type": "execute_result"
    }
   ],
   "source": [
    "movies_df_v2['release_date'].value_counts(dropna=False)"
   ]
  },
  {
   "cell_type": "code",
   "execution_count": 21,
   "id": "f0846511",
   "metadata": {},
   "outputs": [],
   "source": [
    "import datetime as dt\n",
    "\n",
    "movies_df_v2['release_weekday'] = movies_df_v2['release_date'].dt.isocalendar().day # weekday 5 is a friday\n"
   ]
  },
  {
   "cell_type": "code",
   "execution_count": 22,
   "id": "c2e636c1",
   "metadata": {},
   "outputs": [],
   "source": [
    "movies_df_v2 = movies_df_v2.drop(['release_month'], axis=1) #dropping the original month column and \n",
    "#creating one from datetime. The original release_month column has more nonsensical values\n"
   ]
  },
  {
   "cell_type": "code",
   "execution_count": 23,
   "id": "74f4336e",
   "metadata": {},
   "outputs": [],
   "source": [
    "movies_df_v2['release_month'] = pd.DatetimeIndex(movies_df_v2['release_date']).month\n"
   ]
  },
  {
   "cell_type": "code",
   "execution_count": 24,
   "id": "a4241d70",
   "metadata": {},
   "outputs": [
    {
     "data": {
      "text/plain": [
       "9.0     57\n",
       "8.0     54\n",
       "10.0    54\n",
       "2.0     49\n",
       "3.0     45\n",
       "6.0     41\n",
       "7.0     40\n",
       "4.0     40\n",
       "1.0     39\n",
       "5.0     32\n",
       "11.0    14\n",
       "12.0     7\n",
       "NaN      5\n",
       "Name: release_month, dtype: int64"
      ]
     },
     "execution_count": 24,
     "metadata": {},
     "output_type": "execute_result"
    }
   ],
   "source": [
    "movies_df_v2['release_month'].value_counts(dropna=False)"
   ]
  },
  {
   "cell_type": "code",
   "execution_count": 25,
   "id": "10eb3ce8",
   "metadata": {},
   "outputs": [
    {
     "data": {
      "text/plain": [
       "2022    477\n",
       "Name: release_year, dtype: int64"
      ]
     },
     "execution_count": 25,
     "metadata": {},
     "output_type": "execute_result"
    }
   ],
   "source": [
    "movies_df_v2['release_year'].value_counts(dropna=False)"
   ]
  },
  {
   "cell_type": "code",
   "execution_count": 26,
   "id": "37a53771",
   "metadata": {},
   "outputs": [
    {
     "data": {
      "text/plain": [
       "United States           426\n",
       "United Kingdom           19\n",
       "Canada                    4\n",
       "Ireland                   4\n",
       "Australia                 3\n",
       "Japan                     2\n",
       "China                     2\n",
       "Italy                     2\n",
       "Spain                     2\n",
       "Germany                   2\n",
       "Mexico                    2\n",
       "United Arab Emirates      1\n",
       "Puerto Rico               1\n",
       "Portugal                  1\n",
       "France                    1\n",
       "South Korea               1\n",
       "Poland                    1\n",
       "Morocco                   1\n",
       "Hungary                   1\n",
       "Switzerland               1\n",
       "Name: country_of_origin, dtype: int64"
      ]
     },
     "execution_count": 26,
     "metadata": {},
     "output_type": "execute_result"
    }
   ],
   "source": [
    "movies_df_v2['country_of_origin'].value_counts(dropna=False)"
   ]
  },
  {
   "cell_type": "code",
   "execution_count": 27,
   "id": "5f0ad2a5",
   "metadata": {},
   "outputs": [
    {
     "data": {
      "text/plain": [
       "[]    223\n",
       "54     10\n",
       "66     10\n",
       "60     10\n",
       "50      8\n",
       "52      8\n",
       "51      8\n",
       "62      7\n",
       "45      7\n",
       "49      7\n",
       "75      7\n",
       "42      6\n",
       "48      6\n",
       "65      6\n",
       "61      6\n",
       "56      6\n",
       "57      6\n",
       "47      6\n",
       "64      6\n",
       "58      5\n",
       "41      5\n",
       "73      5\n",
       "30      5\n",
       "78      5\n",
       "55      5\n",
       "68      5\n",
       "70      4\n",
       "69      4\n",
       "40      4\n",
       "39      4\n",
       "44      4\n",
       "72      4\n",
       "74      4\n",
       "38      4\n",
       "67      4\n",
       "79      4\n",
       "77      4\n",
       "43      3\n",
       "46      3\n",
       "34      3\n",
       "59      3\n",
       "63      3\n",
       "71      3\n",
       "80      2\n",
       "81      2\n",
       "53      2\n",
       "32      2\n",
       "35      2\n",
       "27      2\n",
       "83      1\n",
       "76      1\n",
       "18      1\n",
       "85      1\n",
       "25      1\n",
       "33      1\n",
       "84      1\n",
       "91      1\n",
       "95      1\n",
       "88      1\n",
       "82      1\n",
       "36      1\n",
       "23      1\n",
       "31      1\n",
       "93      1\n",
       "Name: metascore, dtype: int64"
      ]
     },
     "execution_count": 27,
     "metadata": {},
     "output_type": "execute_result"
    }
   ],
   "source": [
    "movies_df_v2['metascore'].value_counts(dropna=False)"
   ]
  },
  {
   "cell_type": "code",
   "execution_count": 28,
   "id": "26360c9f",
   "metadata": {},
   "outputs": [],
   "source": [
    "movies_df_v2['metascore']= movies_df_v2['metascore'].replace({\n",
    "    '[]':'Not scored'    \n",
    "})\n"
   ]
  },
  {
   "cell_type": "code",
   "execution_count": 29,
   "id": "9e9e0181",
   "metadata": {},
   "outputs": [],
   "source": [
    "def remove_currency(row): \n",
    "    if type(row) != float:\n",
    "        row = row.replace('$', '')\n",
    "        if '€' in row:\n",
    "            row = row.replace('€', '').strip() # no cunversion needed as of date\n",
    "        if 'CA' in row:\n",
    "            row = row.replace('CA', '').strip()\n",
    "            row = str(int(row)*0.73) \n",
    "        if '₹' in row:\n",
    "            row = row.replace('₹', '').strip()\n",
    "            row = str(int(row)*0.012) \n",
    "        if '£' in row:\n",
    "            row = row.replace('£', '').strip()\n",
    "            row = str(int(row)*1.14)\n",
    "        if 'CN¥' in row:\n",
    "            row = row.replace('CN¥', '').strip()\n",
    "            row = str(int(row)*0.0067)\n",
    "        if 'RUR' in row:\n",
    "            row = row.replace('RUR', '').strip()\n",
    "            row = str(int(row)*0.016)\n",
    "             \n",
    "    return row\n",
    "\n",
    "movies_df_v2['budget_in_usd'] = movies_df_v2['budget_in_usd'].apply(remove_currency)"
   ]
  },
  {
   "cell_type": "code",
   "execution_count": 30,
   "id": "3aaedee0",
   "metadata": {},
   "outputs": [],
   "source": [
    "def remove_nonsensical(row): \n",
    "    if type(row) != float:\n",
    "        if ':' in row:\n",
    "            row = np.nan\n",
    "            \n",
    "    return row"
   ]
  },
  {
   "cell_type": "code",
   "execution_count": 31,
   "id": "c6efe99c",
   "metadata": {},
   "outputs": [],
   "source": [
    "movies_df_v2['opening_weekend_us_can_in_usd'] = movies_df_v2['opening_weekend_us_can_in_usd'].apply(remove_nonsensical)"
   ]
  },
  {
   "cell_type": "code",
   "execution_count": 32,
   "id": "e73c6f7e",
   "metadata": {},
   "outputs": [],
   "source": [
    "movies_df_v2['gross_us_can_in_usd'] = movies_df_v2['gross_us_can_in_usd'].apply(remove_nonsensical)"
   ]
  },
  {
   "cell_type": "code",
   "execution_count": 33,
   "id": "9cc752b8",
   "metadata": {},
   "outputs": [],
   "source": [
    "movies_df_v2['gross_worldwide_in_usd'] = movies_df_v2['gross_worldwide_in_usd'].apply(remove_nonsensical)\n"
   ]
  },
  {
   "cell_type": "code",
   "execution_count": 34,
   "id": "d8320a8a",
   "metadata": {},
   "outputs": [
    {
     "data": {
      "text/plain": [
       "movie_id                           0\n",
       "movie_imdb_link                    0\n",
       "certificate                        0\n",
       "runtime_in_mins                    0\n",
       "genre                              0\n",
       "imdb_rating                        0\n",
       "number_of_votes                    0\n",
       "metascore                          0\n",
       "top_director                       0\n",
       "release_year                       0\n",
       "awards_link                        0\n",
       "awards_total                       0\n",
       "top_writer                         0\n",
       "top_star_1                         0\n",
       "top_star_2                         0\n",
       "top_star_3                         0\n",
       "num_user_reviews                   0\n",
       "num_critic_reviews                20\n",
       "release_date                       5\n",
       "country_of_origin                  0\n",
       "top_production_company             0\n",
       "budget_in_usd                      0\n",
       "opening_weekend_us_can_in_usd    136\n",
       "gross_us_can_in_usd                4\n",
       "gross_worldwide_in_usd            97\n",
       "total_award_nominations            0\n",
       "total_award_wins                   0\n",
       "primary_genre                      0\n",
       "secondary_genre                    0\n",
       "release_weekday                    5\n",
       "release_month                      5\n",
       "dtype: int64"
      ]
     },
     "execution_count": 34,
     "metadata": {},
     "output_type": "execute_result"
    }
   ],
   "source": [
    "movies_df_v2.isna().sum()"
   ]
  },
  {
   "cell_type": "code",
   "execution_count": 35,
   "id": "a0d3ae7c",
   "metadata": {},
   "outputs": [],
   "source": [
    "movies_df_v2.replace('',np.nan, inplace=True)\n",
    "movies_df_v2.replace('[]',np.nan, inplace=True)"
   ]
  },
  {
   "cell_type": "code",
   "execution_count": 36,
   "id": "c7b42308",
   "metadata": {},
   "outputs": [
    {
     "data": {
      "text/plain": [
       "movie_id                           0\n",
       "movie_imdb_link                    0\n",
       "certificate                      124\n",
       "runtime_in_mins                    2\n",
       "genre                              0\n",
       "imdb_rating                        0\n",
       "number_of_votes                    0\n",
       "metascore                          0\n",
       "top_director                       0\n",
       "release_year                       0\n",
       "awards_link                        0\n",
       "awards_total                       0\n",
       "top_writer                         1\n",
       "top_star_1                         3\n",
       "top_star_2                         3\n",
       "top_star_3                         3\n",
       "num_user_reviews                   0\n",
       "num_critic_reviews                20\n",
       "release_date                       5\n",
       "country_of_origin                  0\n",
       "top_production_company           270\n",
       "budget_in_usd                    258\n",
       "opening_weekend_us_can_in_usd    370\n",
       "gross_us_can_in_usd              359\n",
       "gross_worldwide_in_usd           278\n",
       "total_award_nominations            0\n",
       "total_award_wins                   0\n",
       "primary_genre                      0\n",
       "secondary_genre                    0\n",
       "release_weekday                    5\n",
       "release_month                      5\n",
       "dtype: int64"
      ]
     },
     "execution_count": 36,
     "metadata": {},
     "output_type": "execute_result"
    }
   ],
   "source": [
    "movies_df_v2.isna().sum()"
   ]
  },
  {
   "cell_type": "code",
   "execution_count": 37,
   "id": "9f1f2f8b",
   "metadata": {},
   "outputs": [],
   "source": [
    "cols_numeric = ['runtime_in_mins','num_user_reviews', 'metascore','budget_in_usd', 'opening_weekend_us_can_in_usd',\n",
    "            'gross_us_can_in_usd', 'gross_worldwide_in_usd','total_award_nominations',\n",
    "            'total_award_wins']\n",
    "\n",
    "movies_df_v2[cols_numeric] = movies_df_v2[cols_numeric].apply(pd.to_numeric, errors='coerce', axis=1)\n"
   ]
  },
  {
   "cell_type": "code",
   "execution_count": 38,
   "id": "a6c10a55",
   "metadata": {},
   "outputs": [],
   "source": [
    "cols_object = ['release_year','release_month', 'release_weekday']\n",
    "\n",
    "movies_df_v2[cols_object] = movies_df_v2[cols_object].astype(object)"
   ]
  },
  {
   "cell_type": "code",
   "execution_count": 39,
   "id": "d2cfb3e8",
   "metadata": {},
   "outputs": [
    {
     "data": {
      "text/plain": [
       "movie_id                           0\n",
       "movie_imdb_link                    0\n",
       "certificate                      124\n",
       "runtime_in_mins                    2\n",
       "genre                              0\n",
       "imdb_rating                        0\n",
       "number_of_votes                    0\n",
       "metascore                        223\n",
       "top_director                       0\n",
       "release_year                       0\n",
       "awards_link                        0\n",
       "awards_total                       0\n",
       "top_writer                         1\n",
       "top_star_1                         3\n",
       "top_star_2                         3\n",
       "top_star_3                         3\n",
       "num_user_reviews                   0\n",
       "num_critic_reviews                20\n",
       "release_date                       5\n",
       "country_of_origin                  0\n",
       "top_production_company           270\n",
       "budget_in_usd                    258\n",
       "opening_weekend_us_can_in_usd    370\n",
       "gross_us_can_in_usd              359\n",
       "gross_worldwide_in_usd           425\n",
       "total_award_nominations            0\n",
       "total_award_wins                   0\n",
       "primary_genre                      0\n",
       "secondary_genre                    0\n",
       "release_weekday                    5\n",
       "release_month                      5\n",
       "dtype: int64"
      ]
     },
     "execution_count": 39,
     "metadata": {},
     "output_type": "execute_result"
    }
   ],
   "source": [
    "movies_df_v2.isna().sum()"
   ]
  },
  {
   "cell_type": "code",
   "execution_count": 40,
   "id": "991a52b5",
   "metadata": {},
   "outputs": [],
   "source": [
    "# Feature engineering"
   ]
  },
  {
   "cell_type": "code",
   "execution_count": 41,
   "id": "2e1917a5",
   "metadata": {},
   "outputs": [],
   "source": [
    "## Oscars proved to be useless for the model."
   ]
  },
  {
   "cell_type": "code",
   "execution_count": 42,
   "id": "b42e90d1",
   "metadata": {},
   "outputs": [],
   "source": [
    "## Director"
   ]
  },
  {
   "cell_type": "code",
   "execution_count": 43,
   "id": "737e949d",
   "metadata": {},
   "outputs": [],
   "source": [
    "top_1000_movies_copy = top_1000_movies.copy()\n",
    "best_directors =top_1000_movies_copy.pivot_table(index= ['Director'],  aggfunc = ['count'])\n",
    "best_directors.columns = best_directors.columns.droplevel(0)\n",
    "best_directors = best_directors.reset_index().rename_axis(None, axis=1)\n"
   ]
  },
  {
   "cell_type": "code",
   "execution_count": 44,
   "id": "960e61a2",
   "metadata": {},
   "outputs": [],
   "source": [
    "best_directors = best_directors.drop(['Genre', 'Gross', 'IMDB_Rating',\n",
    "       'Meta_score', 'No_of_Votes', 'Overview', 'Poster_Link', 'Released_Year',\n",
    "       'Runtime', 'Series_Title', 'Star1', 'Star2', 'Star3', 'Star4'], axis=1)\n",
    "\n",
    "best_directors = best_directors.rename(columns={'Director':'top_director',\n",
    "                                    'Certificate':'is_among_best_director'})\n",
    "\n",
    "best_directors['is_among_best_director'] = 'Y'"
   ]
  },
  {
   "cell_type": "code",
   "execution_count": 45,
   "id": "54907d9c",
   "metadata": {},
   "outputs": [
    {
     "data": {
      "text/plain": [
       "(548, 2)"
      ]
     },
     "execution_count": 45,
     "metadata": {},
     "output_type": "execute_result"
    }
   ],
   "source": [
    "best_directors.shape\n"
   ]
  },
  {
   "cell_type": "code",
   "execution_count": 46,
   "id": "900227e3",
   "metadata": {},
   "outputs": [
    {
     "data": {
      "text/plain": [
       "(477, 31)"
      ]
     },
     "execution_count": 46,
     "metadata": {},
     "output_type": "execute_result"
    }
   ],
   "source": [
    "movies_df_v2.shape"
   ]
  },
  {
   "cell_type": "code",
   "execution_count": 47,
   "id": "296f8e01",
   "metadata": {},
   "outputs": [],
   "source": [
    "movies_df_v10 = pd.merge(movies_df_v2, best_directors, how='left', on='top_director')"
   ]
  },
  {
   "cell_type": "code",
   "execution_count": 48,
   "id": "dad81a79",
   "metadata": {},
   "outputs": [
    {
     "data": {
      "text/html": [
       "<div>\n",
       "<style scoped>\n",
       "    .dataframe tbody tr th:only-of-type {\n",
       "        vertical-align: middle;\n",
       "    }\n",
       "\n",
       "    .dataframe tbody tr th {\n",
       "        vertical-align: top;\n",
       "    }\n",
       "\n",
       "    .dataframe thead th {\n",
       "        text-align: right;\n",
       "    }\n",
       "</style>\n",
       "<table border=\"1\" class=\"dataframe\">\n",
       "  <thead>\n",
       "    <tr style=\"text-align: right;\">\n",
       "      <th></th>\n",
       "      <th>movie_id</th>\n",
       "      <th>movie_imdb_link</th>\n",
       "      <th>certificate</th>\n",
       "      <th>runtime_in_mins</th>\n",
       "      <th>genre</th>\n",
       "      <th>imdb_rating</th>\n",
       "      <th>number_of_votes</th>\n",
       "      <th>metascore</th>\n",
       "      <th>top_director</th>\n",
       "      <th>release_year</th>\n",
       "      <th>awards_link</th>\n",
       "      <th>awards_total</th>\n",
       "      <th>top_writer</th>\n",
       "      <th>top_star_1</th>\n",
       "      <th>top_star_2</th>\n",
       "      <th>top_star_3</th>\n",
       "      <th>num_user_reviews</th>\n",
       "      <th>num_critic_reviews</th>\n",
       "      <th>release_date</th>\n",
       "      <th>country_of_origin</th>\n",
       "      <th>top_production_company</th>\n",
       "      <th>budget_in_usd</th>\n",
       "      <th>opening_weekend_us_can_in_usd</th>\n",
       "      <th>gross_us_can_in_usd</th>\n",
       "      <th>gross_worldwide_in_usd</th>\n",
       "      <th>total_award_nominations</th>\n",
       "      <th>total_award_wins</th>\n",
       "      <th>primary_genre</th>\n",
       "      <th>secondary_genre</th>\n",
       "      <th>release_weekday</th>\n",
       "      <th>release_month</th>\n",
       "      <th>is_among_best_director</th>\n",
       "    </tr>\n",
       "  </thead>\n",
       "  <tbody>\n",
       "    <tr>\n",
       "      <th>467</th>\n",
       "      <td>tt13429928</td>\n",
       "      <td>https://www.imdb.com/title/tt13429928/?ref_=ad...</td>\n",
       "      <td>Not Rated</td>\n",
       "      <td>87.0</td>\n",
       "      <td>Action, Adventure, History</td>\n",
       "      <td>3.2</td>\n",
       "      <td>210.0</td>\n",
       "      <td>NaN</td>\n",
       "      <td>Steven Luke</td>\n",
       "      <td>2022</td>\n",
       "      <td>https://www.imdb.com/title/tt13429928/awards/?...</td>\n",
       "      <td>0</td>\n",
       "      <td>Steven Luke</td>\n",
       "      <td>Hiram A. Murray</td>\n",
       "      <td>Andrew Stecker</td>\n",
       "      <td>Apostolos Gliarmis</td>\n",
       "      <td>11.0</td>\n",
       "      <td>5.0</td>\n",
       "      <td>2022-10-06</td>\n",
       "      <td>United States</td>\n",
       "      <td>NaN</td>\n",
       "      <td>NaN</td>\n",
       "      <td>NaN</td>\n",
       "      <td>NaN</td>\n",
       "      <td>NaN</td>\n",
       "      <td>0.0</td>\n",
       "      <td>0.0</td>\n",
       "      <td>Action</td>\n",
       "      <td>Adventure</td>\n",
       "      <td>4</td>\n",
       "      <td>10.0</td>\n",
       "      <td>NaN</td>\n",
       "    </tr>\n",
       "    <tr>\n",
       "      <th>468</th>\n",
       "      <td>tt11939970</td>\n",
       "      <td>https://www.imdb.com/title/tt11939970/?ref_=ad...</td>\n",
       "      <td>NaN</td>\n",
       "      <td>80.0</td>\n",
       "      <td>Drama, Horror, Mystery</td>\n",
       "      <td>2.4</td>\n",
       "      <td>209.0</td>\n",
       "      <td>NaN</td>\n",
       "      <td>Kameron Hale</td>\n",
       "      <td>2022</td>\n",
       "      <td>https://www.imdb.com/title/tt11939970/awards/?...</td>\n",
       "      <td>Showing all 1 win and 3 nominations</td>\n",
       "      <td>Scott Hale</td>\n",
       "      <td>Miranda Nieman</td>\n",
       "      <td>Hayley Sunshine</td>\n",
       "      <td>Scott Hale</td>\n",
       "      <td>22.0</td>\n",
       "      <td>7.0</td>\n",
       "      <td>2022-01-18</td>\n",
       "      <td>United States</td>\n",
       "      <td>NaN</td>\n",
       "      <td>NaN</td>\n",
       "      <td>NaN</td>\n",
       "      <td>NaN</td>\n",
       "      <td>NaN</td>\n",
       "      <td>3.0</td>\n",
       "      <td>1.0</td>\n",
       "      <td>Drama</td>\n",
       "      <td>Horror</td>\n",
       "      <td>2</td>\n",
       "      <td>1.0</td>\n",
       "      <td>NaN</td>\n",
       "    </tr>\n",
       "    <tr>\n",
       "      <th>469</th>\n",
       "      <td>tt12907932</td>\n",
       "      <td>https://www.imdb.com/title/tt12907932/?ref_=ad...</td>\n",
       "      <td>NaN</td>\n",
       "      <td>82.0</td>\n",
       "      <td>Horror, Thriller</td>\n",
       "      <td>2.5</td>\n",
       "      <td>208.0</td>\n",
       "      <td>NaN</td>\n",
       "      <td>Kipp Tribble</td>\n",
       "      <td>2022</td>\n",
       "      <td>https://www.imdb.com/title/tt12907932/awards/?...</td>\n",
       "      <td>0</td>\n",
       "      <td>Kipp Tribble</td>\n",
       "      <td>Andi Sweeney Blanco</td>\n",
       "      <td>Richard Siegelman</td>\n",
       "      <td>Kipp Tribble</td>\n",
       "      <td>10.0</td>\n",
       "      <td>11.0</td>\n",
       "      <td>2022-01-21</td>\n",
       "      <td>United States</td>\n",
       "      <td>NaN</td>\n",
       "      <td>NaN</td>\n",
       "      <td>NaN</td>\n",
       "      <td>NaN</td>\n",
       "      <td>NaN</td>\n",
       "      <td>0.0</td>\n",
       "      <td>0.0</td>\n",
       "      <td>Horror</td>\n",
       "      <td>Thriller</td>\n",
       "      <td>5</td>\n",
       "      <td>1.0</td>\n",
       "      <td>NaN</td>\n",
       "    </tr>\n",
       "    <tr>\n",
       "      <th>470</th>\n",
       "      <td>tt9093076</td>\n",
       "      <td>https://www.imdb.com/title/tt9093076/?ref_=adv...</td>\n",
       "      <td>NaN</td>\n",
       "      <td>72.0</td>\n",
       "      <td>Horror</td>\n",
       "      <td>3.7</td>\n",
       "      <td>207.0</td>\n",
       "      <td>NaN</td>\n",
       "      <td>Kurtis Spieler</td>\n",
       "      <td>2022</td>\n",
       "      <td>https://www.imdb.com/title/tt9093076/awards/?r...</td>\n",
       "      <td>0</td>\n",
       "      <td>Kurtis Spieler</td>\n",
       "      <td>Laura Dooling</td>\n",
       "      <td>Adrienne King</td>\n",
       "      <td>Frank Wihbey</td>\n",
       "      <td>13.0</td>\n",
       "      <td>15.0</td>\n",
       "      <td>2022-08-09</td>\n",
       "      <td>United States</td>\n",
       "      <td>NaN</td>\n",
       "      <td>NaN</td>\n",
       "      <td>NaN</td>\n",
       "      <td>NaN</td>\n",
       "      <td>NaN</td>\n",
       "      <td>0.0</td>\n",
       "      <td>0.0</td>\n",
       "      <td>Horror</td>\n",
       "      <td>Other</td>\n",
       "      <td>2</td>\n",
       "      <td>8.0</td>\n",
       "      <td>NaN</td>\n",
       "    </tr>\n",
       "    <tr>\n",
       "      <th>471</th>\n",
       "      <td>tt14555908</td>\n",
       "      <td>https://www.imdb.com/title/tt14555908/?ref_=ad...</td>\n",
       "      <td>NaN</td>\n",
       "      <td>86.0</td>\n",
       "      <td>Comedy</td>\n",
       "      <td>5.3</td>\n",
       "      <td>205.0</td>\n",
       "      <td>NaN</td>\n",
       "      <td>Andrew Nackman</td>\n",
       "      <td>2022</td>\n",
       "      <td>https://www.imdb.com/title/tt14555908/awards/?...</td>\n",
       "      <td>Showing all 0 wins and 1 nomination</td>\n",
       "      <td>Jake Greene</td>\n",
       "      <td>Ethan Dizon</td>\n",
       "      <td>Madison Wolfe</td>\n",
       "      <td>Bernard White</td>\n",
       "      <td>9.0</td>\n",
       "      <td>10.0</td>\n",
       "      <td>2022-05-24</td>\n",
       "      <td>United States</td>\n",
       "      <td>NaN</td>\n",
       "      <td>NaN</td>\n",
       "      <td>NaN</td>\n",
       "      <td>NaN</td>\n",
       "      <td>NaN</td>\n",
       "      <td>1.0</td>\n",
       "      <td>0.0</td>\n",
       "      <td>Comedy</td>\n",
       "      <td>Other</td>\n",
       "      <td>2</td>\n",
       "      <td>5.0</td>\n",
       "      <td>NaN</td>\n",
       "    </tr>\n",
       "    <tr>\n",
       "      <th>472</th>\n",
       "      <td>tt19511880</td>\n",
       "      <td>https://www.imdb.com/title/tt19511880/?ref_=ad...</td>\n",
       "      <td>NaN</td>\n",
       "      <td>NaN</td>\n",
       "      <td>Reality-TV</td>\n",
       "      <td>9.1</td>\n",
       "      <td>204.0</td>\n",
       "      <td>NaN</td>\n",
       "      <td>Diane Paloma Eskenazi</td>\n",
       "      <td>2022</td>\n",
       "      <td>https://www.imdb.com/title/tt19511880/awards/?...</td>\n",
       "      <td>0</td>\n",
       "      <td>Nino Dalakishvili</td>\n",
       "      <td>NaN</td>\n",
       "      <td>NaN</td>\n",
       "      <td>NaN</td>\n",
       "      <td>0.0</td>\n",
       "      <td>NaN</td>\n",
       "      <td>2022-05-01</td>\n",
       "      <td>United States</td>\n",
       "      <td>NaN</td>\n",
       "      <td>50000.0</td>\n",
       "      <td>NaN</td>\n",
       "      <td>NaN</td>\n",
       "      <td>NaN</td>\n",
       "      <td>0.0</td>\n",
       "      <td>0.0</td>\n",
       "      <td>Reality</td>\n",
       "      <td>TV</td>\n",
       "      <td>7</td>\n",
       "      <td>5.0</td>\n",
       "      <td>NaN</td>\n",
       "    </tr>\n",
       "    <tr>\n",
       "      <th>473</th>\n",
       "      <td>tt10696116</td>\n",
       "      <td>https://www.imdb.com/title/tt10696116/?ref_=ad...</td>\n",
       "      <td>NaN</td>\n",
       "      <td>92.0</td>\n",
       "      <td>Horror</td>\n",
       "      <td>7.9</td>\n",
       "      <td>204.0</td>\n",
       "      <td>NaN</td>\n",
       "      <td>John Ainslie</td>\n",
       "      <td>2022</td>\n",
       "      <td>https://www.imdb.com/title/tt10696116/awards/?...</td>\n",
       "      <td>0</td>\n",
       "      <td>John Ainslie</td>\n",
       "      <td>Kimberly Laferriere</td>\n",
       "      <td>Rogan Christopher</td>\n",
       "      <td>Janet Porter</td>\n",
       "      <td>3.0</td>\n",
       "      <td>26.0</td>\n",
       "      <td>2022-08-19</td>\n",
       "      <td>United States</td>\n",
       "      <td>NaN</td>\n",
       "      <td>NaN</td>\n",
       "      <td>NaN</td>\n",
       "      <td>NaN</td>\n",
       "      <td>NaN</td>\n",
       "      <td>0.0</td>\n",
       "      <td>0.0</td>\n",
       "      <td>Horror</td>\n",
       "      <td>Other</td>\n",
       "      <td>5</td>\n",
       "      <td>8.0</td>\n",
       "      <td>NaN</td>\n",
       "    </tr>\n",
       "    <tr>\n",
       "      <th>474</th>\n",
       "      <td>tt3447590</td>\n",
       "      <td>https://www.imdb.com/title/tt3447590/?ref_=adv...</td>\n",
       "      <td>Parental Guidance</td>\n",
       "      <td>117.0</td>\n",
       "      <td>Comedy, Drama, Family</td>\n",
       "      <td>6.1</td>\n",
       "      <td>201.0</td>\n",
       "      <td>67.0</td>\n",
       "      <td>Matthew Warchus</td>\n",
       "      <td>2022</td>\n",
       "      <td>https://www.imdb.com/title/tt3447590/awards/?r...</td>\n",
       "      <td>0</td>\n",
       "      <td>Roald Dahl</td>\n",
       "      <td>Stephen Graham</td>\n",
       "      <td>Emma Thompson</td>\n",
       "      <td>Andrea Riseborough</td>\n",
       "      <td>15.0</td>\n",
       "      <td>15.0</td>\n",
       "      <td>2022-12-25</td>\n",
       "      <td>United Kingdom</td>\n",
       "      <td>Working Title Films</td>\n",
       "      <td>NaN</td>\n",
       "      <td>NaN</td>\n",
       "      <td>NaN</td>\n",
       "      <td>NaN</td>\n",
       "      <td>0.0</td>\n",
       "      <td>0.0</td>\n",
       "      <td>Comedy</td>\n",
       "      <td>Drama</td>\n",
       "      <td>7</td>\n",
       "      <td>12.0</td>\n",
       "      <td>Y</td>\n",
       "    </tr>\n",
       "    <tr>\n",
       "      <th>475</th>\n",
       "      <td>tt20861742</td>\n",
       "      <td>https://www.imdb.com/title/tt20861742/?ref_=ad...</td>\n",
       "      <td>NaN</td>\n",
       "      <td>78.0</td>\n",
       "      <td>Horror</td>\n",
       "      <td>4.5</td>\n",
       "      <td>200.0</td>\n",
       "      <td>NaN</td>\n",
       "      <td>Brendan Rudnicki</td>\n",
       "      <td>2022</td>\n",
       "      <td>https://www.imdb.com/title/tt20861742/awards/?...</td>\n",
       "      <td>Showing all 1 win and 4 nominations</td>\n",
       "      <td>Brendan Rudnicki</td>\n",
       "      <td>Walter Braithwaite</td>\n",
       "      <td>Dylan DeVane</td>\n",
       "      <td>Brent Downs</td>\n",
       "      <td>101.0</td>\n",
       "      <td>4.0</td>\n",
       "      <td>2022-07-29</td>\n",
       "      <td>United States</td>\n",
       "      <td>NaN</td>\n",
       "      <td>NaN</td>\n",
       "      <td>NaN</td>\n",
       "      <td>NaN</td>\n",
       "      <td>NaN</td>\n",
       "      <td>4.0</td>\n",
       "      <td>1.0</td>\n",
       "      <td>Horror</td>\n",
       "      <td>Other</td>\n",
       "      <td>5</td>\n",
       "      <td>7.0</td>\n",
       "      <td>NaN</td>\n",
       "    </tr>\n",
       "    <tr>\n",
       "      <th>476</th>\n",
       "      <td>tt12885770</td>\n",
       "      <td>https://www.imdb.com/title/tt12885770/?ref_=ad...</td>\n",
       "      <td>Adult</td>\n",
       "      <td>90.0</td>\n",
       "      <td>Horror, Sci-Fi, Thriller</td>\n",
       "      <td>2.2</td>\n",
       "      <td>200.0</td>\n",
       "      <td>NaN</td>\n",
       "      <td>Lance Kawas</td>\n",
       "      <td>2022</td>\n",
       "      <td>https://www.imdb.com/title/tt12885770/awards/?...</td>\n",
       "      <td>0</td>\n",
       "      <td>Lance Kawas</td>\n",
       "      <td>Brande Roderick</td>\n",
       "      <td>Donald Cerrone</td>\n",
       "      <td>Kelly Lynn Reiter</td>\n",
       "      <td>9.0</td>\n",
       "      <td>3.0</td>\n",
       "      <td>2022-10-11</td>\n",
       "      <td>United States</td>\n",
       "      <td>NaN</td>\n",
       "      <td>NaN</td>\n",
       "      <td>NaN</td>\n",
       "      <td>NaN</td>\n",
       "      <td>NaN</td>\n",
       "      <td>0.0</td>\n",
       "      <td>0.0</td>\n",
       "      <td>Horror</td>\n",
       "      <td>Sci</td>\n",
       "      <td>2</td>\n",
       "      <td>10.0</td>\n",
       "      <td>NaN</td>\n",
       "    </tr>\n",
       "  </tbody>\n",
       "</table>\n",
       "</div>"
      ],
      "text/plain": [
       "       movie_id                                    movie_imdb_link  \\\n",
       "467  tt13429928  https://www.imdb.com/title/tt13429928/?ref_=ad...   \n",
       "468  tt11939970  https://www.imdb.com/title/tt11939970/?ref_=ad...   \n",
       "469  tt12907932  https://www.imdb.com/title/tt12907932/?ref_=ad...   \n",
       "470   tt9093076  https://www.imdb.com/title/tt9093076/?ref_=adv...   \n",
       "471  tt14555908  https://www.imdb.com/title/tt14555908/?ref_=ad...   \n",
       "472  tt19511880  https://www.imdb.com/title/tt19511880/?ref_=ad...   \n",
       "473  tt10696116  https://www.imdb.com/title/tt10696116/?ref_=ad...   \n",
       "474   tt3447590  https://www.imdb.com/title/tt3447590/?ref_=adv...   \n",
       "475  tt20861742  https://www.imdb.com/title/tt20861742/?ref_=ad...   \n",
       "476  tt12885770  https://www.imdb.com/title/tt12885770/?ref_=ad...   \n",
       "\n",
       "           certificate  runtime_in_mins                       genre  \\\n",
       "467          Not Rated             87.0  Action, Adventure, History   \n",
       "468                NaN             80.0      Drama, Horror, Mystery   \n",
       "469                NaN             82.0            Horror, Thriller   \n",
       "470                NaN             72.0                      Horror   \n",
       "471                NaN             86.0                      Comedy   \n",
       "472                NaN              NaN                  Reality-TV   \n",
       "473                NaN             92.0                      Horror   \n",
       "474  Parental Guidance            117.0       Comedy, Drama, Family   \n",
       "475                NaN             78.0                      Horror   \n",
       "476              Adult             90.0    Horror, Sci-Fi, Thriller   \n",
       "\n",
       "     imdb_rating  number_of_votes  metascore           top_director  \\\n",
       "467          3.2            210.0        NaN            Steven Luke   \n",
       "468          2.4            209.0        NaN           Kameron Hale   \n",
       "469          2.5            208.0        NaN           Kipp Tribble   \n",
       "470          3.7            207.0        NaN         Kurtis Spieler   \n",
       "471          5.3            205.0        NaN         Andrew Nackman   \n",
       "472          9.1            204.0        NaN  Diane Paloma Eskenazi   \n",
       "473          7.9            204.0        NaN           John Ainslie   \n",
       "474          6.1            201.0       67.0        Matthew Warchus   \n",
       "475          4.5            200.0        NaN       Brendan Rudnicki   \n",
       "476          2.2            200.0        NaN            Lance Kawas   \n",
       "\n",
       "    release_year                                        awards_link  \\\n",
       "467         2022  https://www.imdb.com/title/tt13429928/awards/?...   \n",
       "468         2022  https://www.imdb.com/title/tt11939970/awards/?...   \n",
       "469         2022  https://www.imdb.com/title/tt12907932/awards/?...   \n",
       "470         2022  https://www.imdb.com/title/tt9093076/awards/?r...   \n",
       "471         2022  https://www.imdb.com/title/tt14555908/awards/?...   \n",
       "472         2022  https://www.imdb.com/title/tt19511880/awards/?...   \n",
       "473         2022  https://www.imdb.com/title/tt10696116/awards/?...   \n",
       "474         2022  https://www.imdb.com/title/tt3447590/awards/?r...   \n",
       "475         2022  https://www.imdb.com/title/tt20861742/awards/?...   \n",
       "476         2022  https://www.imdb.com/title/tt12885770/awards/?...   \n",
       "\n",
       "                            awards_total         top_writer  \\\n",
       "467                                    0        Steven Luke   \n",
       "468  Showing all 1 win and 3 nominations         Scott Hale   \n",
       "469                                    0       Kipp Tribble   \n",
       "470                                    0     Kurtis Spieler   \n",
       "471  Showing all 0 wins and 1 nomination        Jake Greene   \n",
       "472                                    0  Nino Dalakishvili   \n",
       "473                                    0       John Ainslie   \n",
       "474                                    0         Roald Dahl   \n",
       "475  Showing all 1 win and 4 nominations   Brendan Rudnicki   \n",
       "476                                    0        Lance Kawas   \n",
       "\n",
       "              top_star_1         top_star_2          top_star_3  \\\n",
       "467      Hiram A. Murray     Andrew Stecker  Apostolos Gliarmis   \n",
       "468       Miranda Nieman    Hayley Sunshine          Scott Hale   \n",
       "469  Andi Sweeney Blanco  Richard Siegelman        Kipp Tribble   \n",
       "470        Laura Dooling      Adrienne King        Frank Wihbey   \n",
       "471          Ethan Dizon      Madison Wolfe       Bernard White   \n",
       "472                  NaN                NaN                 NaN   \n",
       "473  Kimberly Laferriere  Rogan Christopher        Janet Porter   \n",
       "474       Stephen Graham      Emma Thompson  Andrea Riseborough   \n",
       "475   Walter Braithwaite       Dylan DeVane         Brent Downs   \n",
       "476      Brande Roderick     Donald Cerrone   Kelly Lynn Reiter   \n",
       "\n",
       "     num_user_reviews  num_critic_reviews release_date country_of_origin  \\\n",
       "467              11.0                 5.0   2022-10-06     United States   \n",
       "468              22.0                 7.0   2022-01-18     United States   \n",
       "469              10.0                11.0   2022-01-21     United States   \n",
       "470              13.0                15.0   2022-08-09     United States   \n",
       "471               9.0                10.0   2022-05-24     United States   \n",
       "472               0.0                 NaN   2022-05-01     United States   \n",
       "473               3.0                26.0   2022-08-19     United States   \n",
       "474              15.0                15.0   2022-12-25    United Kingdom   \n",
       "475             101.0                 4.0   2022-07-29     United States   \n",
       "476               9.0                 3.0   2022-10-11     United States   \n",
       "\n",
       "    top_production_company  budget_in_usd  opening_weekend_us_can_in_usd  \\\n",
       "467                    NaN            NaN                            NaN   \n",
       "468                    NaN            NaN                            NaN   \n",
       "469                    NaN            NaN                            NaN   \n",
       "470                    NaN            NaN                            NaN   \n",
       "471                    NaN            NaN                            NaN   \n",
       "472                    NaN        50000.0                            NaN   \n",
       "473                    NaN            NaN                            NaN   \n",
       "474    Working Title Films            NaN                            NaN   \n",
       "475                    NaN            NaN                            NaN   \n",
       "476                    NaN            NaN                            NaN   \n",
       "\n",
       "     gross_us_can_in_usd  gross_worldwide_in_usd  total_award_nominations  \\\n",
       "467                  NaN                     NaN                      0.0   \n",
       "468                  NaN                     NaN                      3.0   \n",
       "469                  NaN                     NaN                      0.0   \n",
       "470                  NaN                     NaN                      0.0   \n",
       "471                  NaN                     NaN                      1.0   \n",
       "472                  NaN                     NaN                      0.0   \n",
       "473                  NaN                     NaN                      0.0   \n",
       "474                  NaN                     NaN                      0.0   \n",
       "475                  NaN                     NaN                      4.0   \n",
       "476                  NaN                     NaN                      0.0   \n",
       "\n",
       "     total_award_wins primary_genre secondary_genre release_weekday  \\\n",
       "467               0.0        Action       Adventure               4   \n",
       "468               1.0         Drama          Horror               2   \n",
       "469               0.0        Horror        Thriller               5   \n",
       "470               0.0        Horror           Other               2   \n",
       "471               0.0        Comedy           Other               2   \n",
       "472               0.0       Reality              TV               7   \n",
       "473               0.0        Horror           Other               5   \n",
       "474               0.0        Comedy           Drama               7   \n",
       "475               1.0        Horror           Other               5   \n",
       "476               0.0        Horror             Sci               2   \n",
       "\n",
       "    release_month is_among_best_director  \n",
       "467          10.0                    NaN  \n",
       "468           1.0                    NaN  \n",
       "469           1.0                    NaN  \n",
       "470           8.0                    NaN  \n",
       "471           5.0                    NaN  \n",
       "472           5.0                    NaN  \n",
       "473           8.0                    NaN  \n",
       "474          12.0                      Y  \n",
       "475           7.0                    NaN  \n",
       "476          10.0                    NaN  "
      ]
     },
     "execution_count": 48,
     "metadata": {},
     "output_type": "execute_result"
    }
   ],
   "source": [
    "movies_df_v10.tail(10)"
   ]
  },
  {
   "cell_type": "code",
   "execution_count": 49,
   "id": "f8471dd2",
   "metadata": {},
   "outputs": [
    {
     "name": "stderr",
     "output_type": "stream",
     "text": [
      "/var/folders/33/p_3l01b14g96rn22vzwly2g00000gn/T/ipykernel_64253/2676440861.py:4: UserWarning: Boolean Series key will be reindexed to match DataFrame index.\n",
      "  movies_df_v10_gross_uscan = movies_df_v10_bud[~(\n"
     ]
    }
   ],
   "source": [
    "movies_df_v10_bud = movies_df_v10[~(\n",
    "    movies_df_v10['budget_in_usd'] < 10000)]\n",
    "\n",
    "movies_df_v10_gross_uscan = movies_df_v10_bud[~(\n",
    "    movies_df_v10['gross_us_can_in_usd'] < 2000)]"
   ]
  },
  {
   "cell_type": "code",
   "execution_count": 50,
   "id": "d1b25af5",
   "metadata": {},
   "outputs": [
    {
     "data": {
      "text/plain": [
       "movie_id                           0\n",
       "movie_imdb_link                    0\n",
       "certificate                      122\n",
       "runtime_in_mins                    2\n",
       "genre                              0\n",
       "imdb_rating                        0\n",
       "number_of_votes                    0\n",
       "metascore                        219\n",
       "top_director                       0\n",
       "release_year                       0\n",
       "awards_link                        0\n",
       "awards_total                       0\n",
       "top_writer                         1\n",
       "top_star_1                         3\n",
       "top_star_2                         3\n",
       "top_star_3                         3\n",
       "num_user_reviews                   0\n",
       "num_critic_reviews                18\n",
       "release_date                       5\n",
       "country_of_origin                  0\n",
       "top_production_company           263\n",
       "budget_in_usd                    258\n",
       "opening_weekend_us_can_in_usd    363\n",
       "gross_us_can_in_usd              352\n",
       "gross_worldwide_in_usd           418\n",
       "total_award_nominations            0\n",
       "total_award_wins                   0\n",
       "primary_genre                      0\n",
       "secondary_genre                    0\n",
       "release_weekday                    5\n",
       "release_month                      5\n",
       "is_among_best_director           436\n",
       "dtype: int64"
      ]
     },
     "execution_count": 50,
     "metadata": {},
     "output_type": "execute_result"
    }
   ],
   "source": [
    "movies_df_v10_gross_uscan.isna().sum()"
   ]
  },
  {
   "cell_type": "code",
   "execution_count": 51,
   "id": "5c479a89",
   "metadata": {},
   "outputs": [],
   "source": [
    "# I will continue with a filtered data where the financial columns are not null.\n",
    "\n",
    "mask1 = movies_df_v10_gross_uscan['gross_worldwide_in_usd'].notnull()\n",
    "mask2 = movies_df_v10_gross_uscan['opening_weekend_us_can_in_usd'].notnull()\n",
    "mask3 = movies_df_v10_gross_uscan['budget_in_usd'].notnull()\n",
    "\n",
    "movies_filtered = movies_df_v10_gross_uscan[mask1 & mask2 & mask3].copy()"
   ]
  },
  {
   "cell_type": "code",
   "execution_count": 52,
   "id": "2448dde7",
   "metadata": {},
   "outputs": [
    {
     "data": {
      "text/plain": [
       "(52, 32)"
      ]
     },
     "execution_count": 52,
     "metadata": {},
     "output_type": "execute_result"
    }
   ],
   "source": [
    "movies_filtered.shape"
   ]
  },
  {
   "cell_type": "code",
   "execution_count": 53,
   "id": "75d0fa7e",
   "metadata": {},
   "outputs": [
    {
     "data": {
      "text/plain": [
       "movie_id                          0\n",
       "movie_imdb_link                   0\n",
       "certificate                       0\n",
       "runtime_in_mins                   0\n",
       "genre                             0\n",
       "imdb_rating                       0\n",
       "number_of_votes                   0\n",
       "metascore                         0\n",
       "top_director                      0\n",
       "release_year                      0\n",
       "awards_link                       0\n",
       "awards_total                      0\n",
       "top_writer                        0\n",
       "top_star_1                        0\n",
       "top_star_2                        0\n",
       "top_star_3                        0\n",
       "num_user_reviews                  0\n",
       "num_critic_reviews                0\n",
       "release_date                      1\n",
       "country_of_origin                 0\n",
       "top_production_company            5\n",
       "budget_in_usd                     0\n",
       "opening_weekend_us_can_in_usd     0\n",
       "gross_us_can_in_usd               0\n",
       "gross_worldwide_in_usd            0\n",
       "total_award_nominations           0\n",
       "total_award_wins                  0\n",
       "primary_genre                     0\n",
       "secondary_genre                   0\n",
       "release_weekday                   1\n",
       "release_month                     1\n",
       "is_among_best_director           41\n",
       "dtype: int64"
      ]
     },
     "execution_count": 53,
     "metadata": {},
     "output_type": "execute_result"
    }
   ],
   "source": [
    "movies_filtered.isna().sum()"
   ]
  },
  {
   "cell_type": "code",
   "execution_count": 54,
   "id": "4b8b834c",
   "metadata": {},
   "outputs": [
    {
     "data": {
      "text/plain": [
       "5    49\n",
       "4     2\n",
       "Name: release_weekday, dtype: int64"
      ]
     },
     "execution_count": 54,
     "metadata": {},
     "output_type": "execute_result"
    }
   ],
   "source": [
    "movies_filtered['release_weekday'].value_counts()"
   ]
  },
  {
   "cell_type": "code",
   "execution_count": 55,
   "id": "3b2d7b1f",
   "metadata": {},
   "outputs": [],
   "source": [
    "movies_filtered['release_weekday'] = movies_filtered['release_weekday'].fillna(5).astype(object)\n"
   ]
  },
  {
   "cell_type": "code",
   "execution_count": 56,
   "id": "91fca13a",
   "metadata": {},
   "outputs": [
    {
     "data": {
      "text/plain": [
       "4.0     10\n",
       "2.0      7\n",
       "9.0      7\n",
       "3.0      4\n",
       "7.0      4\n",
       "8.0      4\n",
       "6.0      4\n",
       "10.0     4\n",
       "5.0      3\n",
       "1.0      2\n",
       "11.0     2\n",
       "Name: release_month, dtype: int64"
      ]
     },
     "execution_count": 56,
     "metadata": {},
     "output_type": "execute_result"
    }
   ],
   "source": [
    "movies_filtered['release_month'].value_counts()"
   ]
  },
  {
   "cell_type": "code",
   "execution_count": 57,
   "id": "c0a412ac",
   "metadata": {},
   "outputs": [
    {
     "data": {
      "text/plain": [
       "4.0     11\n",
       "2.0      7\n",
       "9.0      7\n",
       "3.0      4\n",
       "7.0      4\n",
       "8.0      4\n",
       "6.0      4\n",
       "10.0     4\n",
       "5.0      3\n",
       "1.0      2\n",
       "11.0     2\n",
       "Name: release_month, dtype: int64"
      ]
     },
     "execution_count": 57,
     "metadata": {},
     "output_type": "execute_result"
    }
   ],
   "source": [
    "movies_filtered['release_month'] = movies_filtered['release_month'].fillna(4.0).astype(object)\n",
    "movies_filtered['release_month'].value_counts()\n"
   ]
  },
  {
   "cell_type": "code",
   "execution_count": 58,
   "id": "b0d4529b",
   "metadata": {},
   "outputs": [],
   "source": [
    "def group_prod_company(df):\n",
    "\n",
    "    major_prod_company = ['Universal Pictures', 'Columbia Pictures', 'Warner Bros.', 'Paramount Pictures']\n",
    "    df['top_production_company_grouped'] = '' #creating an empty column\n",
    "    \n",
    "    for i in df.index:\n",
    "        if df['top_production_company'][i] not in major_prod_company:\n",
    "            df['top_production_company_grouped'][i] = 'Other'      \n",
    "         \n",
    "        else:\n",
    "            df['top_production_company_grouped'][i] = df['top_production_company'][i]\n",
    "  \n",
    "    return df\n",
    "\n"
   ]
  },
  {
   "cell_type": "code",
   "execution_count": 59,
   "id": "4b1ed944",
   "metadata": {},
   "outputs": [
    {
     "name": "stderr",
     "output_type": "stream",
     "text": [
      "/var/folders/33/p_3l01b14g96rn22vzwly2g00000gn/T/ipykernel_64253/2722901165.py:11: SettingWithCopyWarning: \n",
      "A value is trying to be set on a copy of a slice from a DataFrame\n",
      "\n",
      "See the caveats in the documentation: https://pandas.pydata.org/pandas-docs/stable/user_guide/indexing.html#returning-a-view-versus-a-copy\n",
      "  df['top_production_company_grouped'][i] = df['top_production_company'][i]\n",
      "/var/folders/33/p_3l01b14g96rn22vzwly2g00000gn/T/ipykernel_64253/2722901165.py:8: SettingWithCopyWarning: \n",
      "A value is trying to be set on a copy of a slice from a DataFrame\n",
      "\n",
      "See the caveats in the documentation: https://pandas.pydata.org/pandas-docs/stable/user_guide/indexing.html#returning-a-view-versus-a-copy\n",
      "  df['top_production_company_grouped'][i] = 'Other'\n"
     ]
    }
   ],
   "source": [
    "movies_filtered_v1 = group_prod_company(movies_filtered)"
   ]
  },
  {
   "cell_type": "code",
   "execution_count": 60,
   "id": "e1a7636c",
   "metadata": {},
   "outputs": [
    {
     "data": {
      "text/plain": [
       "Other                 37\n",
       "Universal Pictures     6\n",
       "Paramount Pictures     4\n",
       "Warner Bros.           3\n",
       "Columbia Pictures      2\n",
       "Name: top_production_company_grouped, dtype: int64"
      ]
     },
     "execution_count": 60,
     "metadata": {},
     "output_type": "execute_result"
    }
   ],
   "source": [
    "movies_filtered_v1['top_production_company_grouped'].value_counts(dropna=False)"
   ]
  },
  {
   "cell_type": "code",
   "execution_count": 61,
   "id": "1c4d29fb",
   "metadata": {},
   "outputs": [],
   "source": [
    "movies_filtered_v1['top_production_company']= movies_filtered_v1['top_production_company'].fillna('Other')"
   ]
  },
  {
   "cell_type": "code",
   "execution_count": 62,
   "id": "96eb0fc3",
   "metadata": {},
   "outputs": [
    {
     "data": {
      "text/plain": [
       "0"
      ]
     },
     "execution_count": 62,
     "metadata": {},
     "output_type": "execute_result"
    }
   ],
   "source": [
    "movies_filtered_v1['top_production_company'].isna().sum()"
   ]
  },
  {
   "cell_type": "code",
   "execution_count": 63,
   "id": "98348dcb",
   "metadata": {},
   "outputs": [],
   "source": [
    "def group_country(df):\n",
    "\n",
    "    df['country_of_origin_grouped'] = '' #creating an empty column\n",
    "    \n",
    "    for i in df.index:\n",
    "        if df['country_of_origin'][i] != 'United States':\n",
    "            df['country_of_origin_grouped'][i] = 'Other'      \n",
    "         \n",
    "        else:\n",
    "            df['country_of_origin_grouped'][i] = df['country_of_origin'][i]\n",
    "  \n",
    "    return df\n",
    "\n"
   ]
  },
  {
   "cell_type": "code",
   "execution_count": 64,
   "id": "421e0518",
   "metadata": {},
   "outputs": [
    {
     "name": "stderr",
     "output_type": "stream",
     "text": [
      "/var/folders/33/p_3l01b14g96rn22vzwly2g00000gn/T/ipykernel_64253/2431420963.py:10: SettingWithCopyWarning: \n",
      "A value is trying to be set on a copy of a slice from a DataFrame\n",
      "\n",
      "See the caveats in the documentation: https://pandas.pydata.org/pandas-docs/stable/user_guide/indexing.html#returning-a-view-versus-a-copy\n",
      "  df['country_of_origin_grouped'][i] = df['country_of_origin'][i]\n",
      "/var/folders/33/p_3l01b14g96rn22vzwly2g00000gn/T/ipykernel_64253/2431420963.py:7: SettingWithCopyWarning: \n",
      "A value is trying to be set on a copy of a slice from a DataFrame\n",
      "\n",
      "See the caveats in the documentation: https://pandas.pydata.org/pandas-docs/stable/user_guide/indexing.html#returning-a-view-versus-a-copy\n",
      "  df['country_of_origin_grouped'][i] = 'Other'\n"
     ]
    }
   ],
   "source": [
    "movies_filtered_v2 = group_country(movies_filtered_v1)"
   ]
  },
  {
   "cell_type": "code",
   "execution_count": 65,
   "id": "3774dc7b",
   "metadata": {},
   "outputs": [
    {
     "data": {
      "text/plain": [
       "Action       22\n",
       "Animation     6\n",
       "Comedy        6\n",
       "Horror        5\n",
       "Drama         4\n",
       "Crime         3\n",
       "Biography     2\n",
       "Adventure     2\n",
       "Other         2\n",
       "Name: primary_genre, dtype: int64"
      ]
     },
     "execution_count": 65,
     "metadata": {},
     "output_type": "execute_result"
    }
   ],
   "source": [
    "movies_filtered_v2['primary_genre']= movies_filtered_v2['primary_genre'].replace({'Fantasy': 'Other',\n",
    "        'Thriller': 'Other','Romance': 'Other', 'Music': 'Other', 'Mystery': 'Other', 'Musical': 'Other',\n",
    "        'Sci':'Other' })\n",
    "\n",
    "movies_filtered_v2['primary_genre'].value_counts(dropna=False)\n"
   ]
  },
  {
   "cell_type": "code",
   "execution_count": 66,
   "id": "57d0f11b",
   "metadata": {},
   "outputs": [
    {
     "data": {
      "text/plain": [
       "Adventure    15\n",
       "Drama        11\n",
       "Other        11\n",
       "Thriller      6\n",
       "Crime         3\n",
       "Comedy        3\n",
       "Romance       2\n",
       "Horror        1\n",
       "Name: secondary_genre, dtype: int64"
      ]
     },
     "execution_count": 66,
     "metadata": {},
     "output_type": "execute_result"
    }
   ],
   "source": [
    "movies_filtered_v2['secondary_genre']= movies_filtered_v2['secondary_genre'].replace({'Mystery': 'Other',\n",
    "        'Fantasy': 'Other','Family': 'Other', 'Biography': 'Other', 'Action': 'Other', 'Sci': 'Other',\n",
    "        'History': 'Other','Music': 'Other', 'Sport': 'Other', 'War': 'Other', 'Musical': 'Other', \n",
    "        'Western': 'Other', 'Fi': 'Other'})\n",
    "\n",
    "movies_filtered_v2['secondary_genre'].value_counts(dropna=False)\n"
   ]
  },
  {
   "cell_type": "code",
   "execution_count": 67,
   "id": "b79335ee",
   "metadata": {},
   "outputs": [
    {
     "data": {
      "text/plain": [
       "+13/14               24\n",
       "Adult                20\n",
       "Parental Guidance     8\n",
       "Name: certificate, dtype: int64"
      ]
     },
     "execution_count": 67,
     "metadata": {},
     "output_type": "execute_result"
    }
   ],
   "source": [
    "movies_filtered_v2['certificate']=movies_filtered_v2['certificate'].fillna('Not Rated')\n",
    "movies_filtered_v2['certificate'].value_counts(dropna=False)"
   ]
  },
  {
   "cell_type": "code",
   "execution_count": 68,
   "id": "3413b683",
   "metadata": {},
   "outputs": [],
   "source": [
    "movies_filtered_v2['num_critic_reviews']=movies_filtered_v2['num_critic_reviews'].fillna(0)"
   ]
  },
  {
   "cell_type": "code",
   "execution_count": 69,
   "id": "6ebeb13d",
   "metadata": {},
   "outputs": [
    {
     "data": {
      "text/plain": [
       "42"
      ]
     },
     "execution_count": 69,
     "metadata": {},
     "output_type": "execute_result"
    }
   ],
   "source": [
    "movies_filtered_v2.isna().sum().sum()"
   ]
  },
  {
   "cell_type": "code",
   "execution_count": 70,
   "id": "18665127",
   "metadata": {},
   "outputs": [],
   "source": [
    "movies_filtered_v2['num_critic_reviews']=movies_filtered_v2['num_critic_reviews'].fillna(0)"
   ]
  },
  {
   "cell_type": "code",
   "execution_count": 71,
   "id": "7b1a92fc",
   "metadata": {},
   "outputs": [
    {
     "data": {
      "text/plain": [
       "Index(['movie_id', 'movie_imdb_link', 'certificate', 'runtime_in_mins',\n",
       "       'genre', 'imdb_rating', 'number_of_votes', 'metascore', 'top_director',\n",
       "       'release_year', 'awards_link', 'awards_total', 'top_writer',\n",
       "       'top_star_1', 'top_star_2', 'top_star_3', 'num_user_reviews',\n",
       "       'num_critic_reviews', 'release_date', 'country_of_origin',\n",
       "       'top_production_company', 'budget_in_usd',\n",
       "       'opening_weekend_us_can_in_usd', 'gross_us_can_in_usd',\n",
       "       'gross_worldwide_in_usd', 'total_award_nominations', 'total_award_wins',\n",
       "       'primary_genre', 'secondary_genre', 'release_weekday', 'release_month',\n",
       "       'is_among_best_director', 'top_production_company_grouped',\n",
       "       'country_of_origin_grouped'],\n",
       "      dtype='object')"
      ]
     },
     "execution_count": 71,
     "metadata": {},
     "output_type": "execute_result"
    }
   ],
   "source": [
    "movies_filtered_v2.columns"
   ]
  },
  {
   "cell_type": "code",
   "execution_count": 72,
   "id": "1b43cdf7",
   "metadata": {},
   "outputs": [],
   "source": [
    "movies_filtered_v2['is_among_best_director']= movies_filtered_v2['is_among_best_director'].fillna('N')"
   ]
  },
  {
   "cell_type": "code",
   "execution_count": 73,
   "id": "a1145715",
   "metadata": {},
   "outputs": [
    {
     "data": {
      "text/plain": [
       "1"
      ]
     },
     "execution_count": 73,
     "metadata": {},
     "output_type": "execute_result"
    }
   ],
   "source": [
    "movies_filtered_v2.isna().sum().sum()"
   ]
  },
  {
   "cell_type": "code",
   "execution_count": 74,
   "id": "a057483b",
   "metadata": {},
   "outputs": [],
   "source": [
    "movies_filtered_v2.to_csv('movies_2022_treated.csv')\n"
   ]
  },
  {
   "cell_type": "code",
   "execution_count": null,
   "id": "35c8c025",
   "metadata": {},
   "outputs": [],
   "source": []
  }
 ],
 "metadata": {
  "kernelspec": {
   "display_name": "Python 3 (ipykernel)",
   "language": "python",
   "name": "python3"
  },
  "language_info": {
   "codemirror_mode": {
    "name": "ipython",
    "version": 3
   },
   "file_extension": ".py",
   "mimetype": "text/x-python",
   "name": "python",
   "nbconvert_exporter": "python",
   "pygments_lexer": "ipython3",
   "version": "3.9.12"
  },
  "toc": {
   "base_numbering": 1,
   "nav_menu": {},
   "number_sections": true,
   "sideBar": true,
   "skip_h1_title": false,
   "title_cell": "Table of Contents",
   "title_sidebar": "Contents",
   "toc_cell": false,
   "toc_position": {},
   "toc_section_display": true,
   "toc_window_display": false
  }
 },
 "nbformat": 4,
 "nbformat_minor": 5
}
